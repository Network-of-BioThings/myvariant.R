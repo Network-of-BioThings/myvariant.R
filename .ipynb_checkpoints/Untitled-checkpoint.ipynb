{
 "cells": [
  {
   "cell_type": "code",
   "execution_count": 3,
   "metadata": {
    "collapsed": true
   },
   "outputs": [],
   "source": [
    "library(myvariant)\n",
    "library(VariantAnnotation)\n",
    "library(S4Vectors)\n",
    "source('~/avera/analyses/R/mendelian.R')"
   ]
  },
  {
   "cell_type": "code",
   "execution_count": 4,
   "metadata": {
    "collapsed": true
   },
   "outputs": [],
   "source": [
    "setwd(\"~/sulab/myvariant/vcf/\")\n",
    "vcf.files <- paste(getwd(), list.files(getwd()), sep=\"/\")"
   ]
  },
  {
   "cell_type": "code",
   "execution_count": 5,
   "metadata": {
    "collapsed": true
   },
   "outputs": [],
   "source": [
    "getVars <- function(vcf.file){\n",
    "  VA <- readVcf(vcf.file, genome=\"hg19\")\n",
    "  vcf <- VA[isSNV(VA)]\n",
    "  snps <- rowRanges(vcf)\n",
    "  snps <- as(snps, \"DataFrame\")\n",
    "  snps[c('DP', 'FS', 'QD')] <- info(vcf)[c('DP', 'FS', 'QD')]\n",
    "  snps$query <- formatHgvs(vcf, \"snp\")\n",
    "  data.frame(snps)\n",
    "}"
   ]
  },
  {
   "cell_type": "code",
   "execution_count": 6,
   "metadata": {
    "collapsed": false,
    "scrolled": true
   },
   "outputs": [
    {
     "name": "stdout",
     "output_type": "stream",
     "text": [
      "found header lines for 3 ‘fixed’ fields: ALT, QUAL, FILTER \n",
      "found header lines for 24 ‘info’ fields: AC, AF, AN, BaseQRankSum, ClippingRankSum, DB, DP, DS, END, FS, HaplotypeScore, InbreedingCoeff, MLEAC, MLEAF, MQ, MQ0, MQRankSum, NEGATIVE_TRAIN_SITE, POSITIVE_TRAIN_SITE, QD, ReadPosRankSum, SOR, VQSLOD, culprit \n",
      "found header lines for 5 ‘geno’ fields: GT, AD, DP, GQ, PL \n",
      "found header lines for 3 ‘fixed’ fields: ALT, QUAL, FILTER \n",
      "found header lines for 24 ‘info’ fields: AC, AF, AN, BaseQRankSum, ClippingRankSum, DB, DP, DS, END, FS, HaplotypeScore, InbreedingCoeff, MLEAC, MLEAF, MQ, MQ0, MQRankSum, NEGATIVE_TRAIN_SITE, POSITIVE_TRAIN_SITE, QD, ReadPosRankSum, SOR, VQSLOD, culprit \n",
      "found header lines for 5 ‘geno’ fields: GT, AD, DP, GQ, PL \n",
      "found header lines for 3 ‘fixed’ fields: ALT, QUAL, FILTER \n",
      "found header lines for 24 ‘info’ fields: AC, AF, AN, BaseQRankSum, ClippingRankSum, DB, DP, DS, END, FS, HaplotypeScore, InbreedingCoeff, MLEAC, MLEAF, MQ, MQ0, MQRankSum, NEGATIVE_TRAIN_SITE, POSITIVE_TRAIN_SITE, QD, ReadPosRankSum, SOR, VQSLOD, culprit \n",
      "found header lines for 5 ‘geno’ fields: GT, AD, DP, GQ, PL \n",
      "found header lines for 3 ‘fixed’ fields: ALT, QUAL, FILTER \n",
      "found header lines for 24 ‘info’ fields: AC, AF, AN, BaseQRankSum, ClippingRankSum, DB, DP, DS, END, FS, HaplotypeScore, InbreedingCoeff, MLEAC, MLEAF, MQ, MQ0, MQRankSum, NEGATIVE_TRAIN_SITE, POSITIVE_TRAIN_SITE, QD, ReadPosRankSum, SOR, VQSLOD, culprit \n",
      "found header lines for 5 ‘geno’ fields: GT, AD, DP, GQ, PL \n"
     ]
    },
    {
     "ename": "ERROR",
     "evalue": "Error in curl::curl_fetch_memory(url, handle = handle): Timeout was reached\n",
     "output_type": "error",
     "traceback": [
      "Error in curl::curl_fetch_memory(url, handle = handle): Timeout was reached\n"
     ]
    }
   ],
   "source": [
    "vars <- lapply(vcf.files, getVars)\n",
    "annos <- lapply(vars, function(i) data.frame(getVariants(i$query)))"
   ]
  },
  {
   "cell_type": "code",
   "execution_count": 2,
   "metadata": {
    "collapsed": false
   },
   "outputs": [
    {
     "ename": "ERROR",
     "evalue": "Error in lapply(annos, replaceWith0): error in evaluating the argument 'X' in selecting a method for function 'lapply': Error: object 'annos' not found\n\n",
     "output_type": "error",
     "traceback": [
      "Error in lapply(annos, replaceWith0): error in evaluating the argument 'X' in selecting a method for function 'lapply': Error: object 'annos' not found\n\n"
     ]
    },
    {
     "ename": "ERROR",
     "evalue": "Error in lapply(vars.li, filterDf): error in evaluating the argument 'X' in selecting a method for function 'lapply': Error: object 'vars.li' not found\n\n",
     "output_type": "error",
     "traceback": [
      "Error in lapply(vars.li, filterDf): error in evaluating the argument 'X' in selecting a method for function 'lapply': Error: object 'vars.li' not found\n\n"
     ]
    }
   ],
   "source": [
    "merged <- lapply(annos, function(i) merge(i, annos[[i]], all.x=TRUE))\n",
    "snps <- lapply(annos, function(i) subset(i, DP > 15 & FS < 30 & QD > 2))\n",
    "vars.li <- lapply(snps, replaceWith0)\n",
    "## show function filterDf\n",
    "f1 <- lapply(vars.li, filterDf)\n",
    "## play with filters, try removing dbSnp\n",
    "## flow chart"
   ]
  },
  {
   "cell_type": "code",
   "execution_count": 23,
   "metadata": {
    "collapsed": true
   },
   "outputs": [],
   "source": [
    "## make as function, show head\n",
    "gene.counts <- data.frame(table(unlist(lapply(f1, function(i) unique(i$dbnsfp.genename)))))\n",
    "top.genes <- subset(gene.counts, Freq == 4)\n",
    "## more print statements\n",
    "top.genes"
   ]
  },
  {
   "cell_type": "code",
   "execution_count": 1,
   "metadata": {
    "collapsed": false
   },
   "outputs": [
    {
     "ename": "ERROR",
     "evalue": "Error in lapply(f1, function(i) arrange(data.frame(table(sapply(i$dbnsfp.genename, : error in evaluating the argument 'X' in selecting a method for function 'lapply': Error: object 'f1' not found\n\n",
     "output_type": "error",
     "traceback": [
      "Error in lapply(f1, function(i) arrange(data.frame(table(sapply(i$dbnsfp.genename, : error in evaluating the argument 'X' in selecting a method for function 'lapply': Error: object 'f1' not found\n\n"
     ]
    },
    {
     "ename": "ERROR",
     "evalue": "Error in do.call(rbind, lapply(list.gene.counts, function(i) subset(i, : error in evaluating the argument 'args' in selecting a method for function 'do.call': Error in lapply(list.gene.counts, function(i) subset(i, Freq > 10)) : \n  error in evaluating the argument 'X' in selecting a method for function 'lapply': Error: object 'list.gene.counts' not found\n\n",
     "output_type": "error",
     "traceback": [
      "Error in do.call(rbind, lapply(list.gene.counts, function(i) subset(i, : error in evaluating the argument 'args' in selecting a method for function 'do.call': Error in lapply(list.gene.counts, function(i) subset(i, Freq > 10)) : \n  error in evaluating the argument 'X' in selecting a method for function 'lapply': Error: object 'list.gene.counts' not found\n\n"
     ]
    },
    {
     "ename": "ERROR",
     "evalue": "Error in do.call(rbind, lapply(top.genes$gene, function(i) geneDf(f1, : error in evaluating the argument 'args' in selecting a method for function 'do.call': Error in lapply(top.genes$gene, function(i) geneDf(f1, i)) : \n  error in evaluating the argument 'X' in selecting a method for function 'lapply': Error: object 'top.genes' not found\n\n",
     "output_type": "error",
     "traceback": [
      "Error in do.call(rbind, lapply(top.genes$gene, function(i) geneDf(f1, : error in evaluating the argument 'args' in selecting a method for function 'do.call': Error in lapply(top.genes$gene, function(i) geneDf(f1, i)) : \n  error in evaluating the argument 'X' in selecting a method for function 'lapply': Error: object 'top.genes' not found\n\n"
     ]
    },
    {
     "ename": "ERROR",
     "evalue": "Error in unlist(y[, 1]): error in evaluating the argument 'x' in selecting a method for function 'unlist': Error: object 'y' not found\n\n",
     "output_type": "error",
     "traceback": [
      "Error in unlist(y[, 1]): error in evaluating the argument 'x' in selecting a method for function 'unlist': Error: object 'y' not found\n\n"
     ]
    },
    {
     "ename": "ERROR",
     "evalue": "Error in UseMethod(\"arrange_\"): no applicable method for 'arrange_' applied to an object of class \"function\"\n",
     "output_type": "error",
     "traceback": [
      "Error in UseMethod(\"arrange_\"): no applicable method for 'arrange_' applied to an object of class \"function\"\n"
     ]
    }
   ],
   "source": [
    "## make as function sortByCadd\n",
    "y <- do.call(rbind, lapply(top.genes$gene, function(i) geneDf(f1, i)))\n",
    "df <- data.frame(gene=unlist(y[,1]), cadd.phred=unlist(y[,2]))\n",
    "ranked <- arrange(df, -cadd.phred)"
   ]
  },
  {
   "cell_type": "code",
   "execution_count": 34,
   "metadata": {
    "collapsed": false,
    "scrolled": true
   },
   "outputs": [
    {
     "data": {
      "text/html": [
       "<table>\n",
       "<thead><tr><th></th><th scope=col>gene</th><th scope=col>cadd.phred</th></tr></thead>\n",
       "<tbody>\n",
       "\t<tr><th scope=row>1</th><td>CTBP2</td><td>34</td></tr>\n",
       "\t<tr><th scope=row>2</th><td>GXYLT1</td><td>34</td></tr>\n",
       "\t<tr><th scope=row>3</th><td>CDC27</td><td>31</td></tr>\n",
       "\t<tr><th scope=row>4</th><td>MTCH2</td><td>31</td></tr>\n",
       "\t<tr><th scope=row>5</th><td>DHODH</td><td>27.966</td></tr>\n",
       "\t<tr><th scope=row>6</th><td>SETD8</td><td>24.7</td></tr>\n",
       "\t<tr><th scope=row>7</th><td>CTDSP2</td><td>22.8</td></tr>\n",
       "\t<tr><th scope=row>8</th><td>PIK3R3</td><td>20.7</td></tr>\n",
       "\t<tr><th scope=row>9</th><td>FAM104B</td><td>19.22225</td></tr>\n",
       "\t<tr><th scope=row>10</th><td>FRG2C</td><td>10.54</td></tr>\n",
       "\t<tr><th scope=row>11</th><td>POTED</td><td>8.947</td></tr>\n",
       "</tbody>\n",
       "</table>\n"
      ],
      "text/latex": [
       "\\begin{tabular}{r|ll}\n",
       "  & gene & cadd.phred\\\\\n",
       "\\hline\n",
       "\t1 & CTBP2 & 34\\\\\n",
       "\t2 & GXYLT1 & 34\\\\\n",
       "\t3 & CDC27 & 31\\\\\n",
       "\t4 & MTCH2 & 31\\\\\n",
       "\t5 & DHODH & 27.966\\\\\n",
       "\t6 & SETD8 & 24.7\\\\\n",
       "\t7 & CTDSP2 & 22.8\\\\\n",
       "\t8 & PIK3R3 & 20.7\\\\\n",
       "\t9 & FAM104B & 19.22225\\\\\n",
       "\t10 & FRG2C & 10.54\\\\\n",
       "\t11 & POTED & 8.947\\\\\n",
       "\\end{tabular}\n"
      ],
      "text/plain": [
       "      gene cadd.phred\n",
       "1    CTBP2   34.00000\n",
       "2   GXYLT1   34.00000\n",
       "3    CDC27   31.00000\n",
       "4    MTCH2   31.00000\n",
       "5    DHODH   27.96600\n",
       "6    SETD8   24.70000\n",
       "7   CTDSP2   22.80000\n",
       "8   PIK3R3   20.70000\n",
       "9  FAM104B   19.22225\n",
       "10   FRG2C   10.54000\n",
       "11   POTED    8.94700"
      ]
     },
     "execution_count": 34,
     "metadata": {},
     "output_type": "execute_result"
    },
    {
     "data": {
      "text/html": [
       "<table>\n",
       "<thead><tr><th></th><th scope=col>gene</th><th scope=col>cadd.phred</th></tr></thead>\n",
       "<tbody>\n",
       "\t<tr><th scope=row>5</th><td>DHODH</td><td>27.966</td></tr>\n",
       "\t<tr><th scope=row>8</th><td>PIK3R3</td><td>20.7</td></tr>\n",
       "\t<tr><th scope=row>11</th><td>POTED</td><td>8.947</td></tr>\n",
       "</tbody>\n",
       "</table>\n"
      ],
      "text/latex": [
       "\\begin{tabular}{r|ll}\n",
       "  & gene & cadd.phred\\\\\n",
       "\\hline\n",
       "\t5 & DHODH & 27.966\\\\\n",
       "\t8 & PIK3R3 & 20.7\\\\\n",
       "\t11 & POTED & 8.947\\\\\n",
       "\\end{tabular}\n"
      ],
      "text/plain": [
       "     gene cadd.phred\n",
       "5   DHODH     27.966\n",
       "8  PIK3R3     20.700\n",
       "11  POTED      8.947"
      ]
     },
     "execution_count": 34,
     "metadata": {},
     "output_type": "execute_result"
    }
   ],
   "source": [
    "ranked ## add patient gene count"
   ]
  },
  {
   "cell_type": "code",
   "execution_count": null,
   "metadata": {
    "collapsed": true
   },
   "outputs": [],
   "source": []
  }
 ],
 "metadata": {
  "kernelspec": {
   "display_name": "R",
   "language": "R",
   "name": "ir"
  },
  "language_info": {
   "codemirror_mode": "r",
   "file_extension": ".r",
   "mimetype": "text/x-r-source",
   "name": "R",
   "pygments_lexer": "r",
   "version": "3.2.1"
  }
 },
 "nbformat": 4,
 "nbformat_minor": 0
}
